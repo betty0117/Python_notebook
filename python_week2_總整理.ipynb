{
  "nbformat": 4,
  "nbformat_minor": 0,
  "metadata": {
    "colab": {
      "provenance": []
    },
    "kernelspec": {
      "name": "python3",
      "display_name": "Python 3"
    },
    "language_info": {
      "name": "python"
    }
  },
  "cells": [
    {
      "cell_type": "markdown",
      "source": [
        "# **輸入**\n",
        "\n",
        "\n",
        "\n",
        "*   input() 讀進來的資料型態是字串（str）\n",
        "*   .split()以空格分隔\n",
        "*   因為是字串，所以要做運算時，要在前面加【int()整數】、【float()浮點數】\n",
        "*   清單項目\n",
        "\n",
        "\n"
      ],
      "metadata": {
        "id": "HvkmUyj9R2TZ"
      }
    },
    {
      "cell_type": "code",
      "source": [
        "name = input(\"輸入一個名字：\")\n",
        "print(\"Hello,\", name, \"!\")\n"
      ],
      "metadata": {
        "colab": {
          "base_uri": "https://localhost:8080/"
        },
        "id": "8i0p48WmRzoZ",
        "outputId": "8148123f-7678-4242-8aed-267662492299"
      },
      "execution_count": 54,
      "outputs": [
        {
          "output_type": "stream",
          "name": "stdout",
          "text": [
            "輸入一個名字：amy\n",
            "Hello, amy !\n"
          ]
        }
      ]
    },
    {
      "cell_type": "code",
      "source": [
        "#多重輸入\n",
        "name, age = input(\"請輸入姓名與年齡（以空格分隔）：\").split()\n",
        "print(f\"{name} 今年 {age} 歲\")\n"
      ],
      "metadata": {
        "colab": {
          "base_uri": "https://localhost:8080/"
        },
        "id": "F3g2qm5fR7ca",
        "outputId": "e1d292fb-4593-4ca3-f038-89b57b2279a1"
      },
      "execution_count": 56,
      "outputs": [
        {
          "output_type": "stream",
          "name": "stdout",
          "text": [
            "請輸入姓名與年齡（以空格分隔）：amy 20\n",
            "amy 今年 20 歲\n"
          ]
        }
      ]
    },
    {
      "cell_type": "code",
      "source": [
        "age = int(input(\"請輸入年齡：\"))\n",
        "print(age + 1)"
      ],
      "metadata": {
        "colab": {
          "base_uri": "https://localhost:8080/"
        },
        "id": "uHhHouOvSTNG",
        "outputId": "82964b37-3abd-475b-b687-7b8d81b959ca"
      },
      "execution_count": 57,
      "outputs": [
        {
          "output_type": "stream",
          "name": "stdout",
          "text": [
            "請輸入年齡：20\n",
            "21\n"
          ]
        }
      ]
    },
    {
      "cell_type": "markdown",
      "source": [
        "# **條件判斷**"
      ],
      "metadata": {
        "id": "QmEHdxWBtjB1"
      }
    },
    {
      "cell_type": "code",
      "source": [
        "# if-elif-else 語句\n",
        "age = 18\n",
        "\n",
        "if age >= 18:\n",
        "    print(\"成年人\")\n",
        "elif age >= 13:\n",
        "    print(\"青少年\")\n",
        "else:\n",
        "    print(\"兒童\")\n"
      ],
      "metadata": {
        "id": "wgYQqza5v5Xz"
      },
      "execution_count": null,
      "outputs": []
    },
    {
      "cell_type": "code",
      "source": [
        "# if-elif-else 語句\n",
        "age = 18\n",
        "\n",
        "if age >= 18:\n",
        "    print(\"成年人\")\n",
        "elif age >= 13:\n",
        "    print(\"青少年\")\n",
        "else:\n",
        "    print(\"兒童\")\n",
        "\n",
        "# 比較運算子\n",
        "a = 5\n",
        "b = 10\n",
        "\n",
        "if a == b:      # 相等\n",
        "    print(\"相等\")\n",
        "if a != b:      # 不相等\n",
        "    print(\"不相等\")\n",
        "if a < b:       # 小於\n",
        "    print(\"a 小於 b\")\n",
        "if a > b:       # 大於\n",
        "    print(\"a 大於 b\")\n",
        "\n",
        "# 邏輯運算子\n",
        "if age >= 18 and age <= 65:\n",
        "    print(\"工作年齡\")\n",
        "\n",
        "if age < 12 or age > 70:\n",
        "    print(\"特殊年齡層\")\n",
        "\n",
        "if not is_student:\n",
        "    print(\"不是學生\")"
      ],
      "metadata": {
        "colab": {
          "base_uri": "https://localhost:8080/"
        },
        "id": "NV7BIKsCtx_L",
        "outputId": "f6b1cf8f-f54b-40e9-ed65-3024f4699c1d"
      },
      "execution_count": 2,
      "outputs": [
        {
          "output_type": "stream",
          "name": "stdout",
          "text": [
            "成年人\n",
            "不相等\n",
            "a 小於 b\n",
            "工作年齡\n"
          ]
        }
      ]
    },
    {
      "cell_type": "markdown",
      "source": [
        "**javascript對照**"
      ],
      "metadata": {
        "id": "LHC8d4lIuN1f"
      }
    },
    {
      "cell_type": "code",
      "source": [
        "// if-else if-else 語句\n",
        "let age = 18;\n",
        "yy\n",
        "if (age >= 18) {\n",
        "    console.log(\"成年人\");\n",
        "} else if (age >= 13) {\n",
        "    console.log(\"青少年\");\n",
        "} else {\n",
        "    console.log(\"兒童\");\n",
        "}\n",
        "\n",
        "// 比較運算子\n",
        "let a = 5;\n",
        "let b = 10;\n",
        "\n",
        "if (a === b) {    // 嚴格相等\n",
        "    console.log(\"相等\");\n",
        "}\n",
        "if (a !== b) {    // 嚴格不相等\n",
        "    console.log(\"不相等\");\n",
        "}\n",
        "if (a < b) {      // 小於\n",
        "    console.log(\"a 小於 b\");\n",
        "}\n",
        "if (a > b) {      // 大於\n",
        "    console.log(\"a 大於 b\");\n",
        "}\n",
        "\n",
        "// 邏輯運算子\n",
        "if (age >= 18 && age <= 65) {\n",
        "    console.log(\"工作年齡\");\n",
        "}\n",
        "\n",
        "if (age < 12 || age > 70) {\n",
        "    console.log(\"特殊年齡層\");\n",
        "}\n"
      ],
      "metadata": {
        "id": "ntZym8wQuLK1"
      },
      "execution_count": null,
      "outputs": []
    },
    {
      "cell_type": "markdown",
      "source": [
        "# **字典**\n",
        "\n",
        "\n",
        "*   Python 字典的鍵必須是字串（或其他不可變類型）\n",
        "*   name, age, city → 都是 鍵 (keys)\n",
        "*   \"Alice\", 20,\"Taipei\" → 是 值 (values)\n",
        "\n",
        "\n"
      ],
      "metadata": {
        "id": "QlPZFStoNoBc"
      }
    },
    {
      "cell_type": "code",
      "source": [
        "# Python 字典（類似 JS 物件）\n",
        "person = {\n",
        "    \"name\": \"Alice\",\n",
        "    \"age\": 20,\n",
        "    \"city\": \"Taipei\"\n",
        "}\n",
        "person_name = person[\"name\"]  # 存取屬性\n",
        "age=person[\"age\"]\n",
        "city = person[\"city\"]\n",
        "print(person_name)\n",
        "print(age)\n",
        "print(city)\n"
      ],
      "metadata": {
        "colab": {
          "base_uri": "https://localhost:8080/"
        },
        "id": "YtXTW7NhNr84",
        "outputId": "a8e0196e-a345-477d-bd5e-47e3399da37e"
      },
      "execution_count": 49,
      "outputs": [
        {
          "output_type": "stream",
          "name": "stdout",
          "text": [
            "Alice\n",
            "20\n",
            "Taipei\n"
          ]
        }
      ]
    },
    {
      "cell_type": "markdown",
      "source": [
        "# **巢狀字典**"
      ],
      "metadata": {
        "id": "UppGKyEIPgRc"
      }
    },
    {
      "cell_type": "code",
      "source": [
        "student = {\n",
        "    \"name\": \"小明\",\n",
        "    \"age\": 20,\n",
        "    \"grades\": [85, 90, 78],\n",
        "    \"contact\": {\n",
        "        \"email\": \"ming@school.com\",\n",
        "        \"phone\": \"0912-345-678\"\n",
        "    }\n",
        "}\n",
        "\n",
        "print(student[\"name\"])            # 直接取值 → 小明\n",
        "print(student[\"grades\"][1])       # 取出第二個成績 → 90\n",
        "print(student[\"contact\"][\"email\"])  # 巢狀取值 → ming@school.com\n"
      ],
      "metadata": {
        "colab": {
          "base_uri": "https://localhost:8080/"
        },
        "id": "rH_dMBTuPn5p",
        "outputId": "71a77658-e25e-4465-bf5d-fba32cb3c8ad"
      },
      "execution_count": 50,
      "outputs": [
        {
          "output_type": "stream",
          "name": "stdout",
          "text": [
            "小明\n",
            "90\n",
            "ming@school.com\n"
          ]
        }
      ]
    },
    {
      "cell_type": "markdown",
      "source": [
        "**修改與新增資料**\n",
        "*   若 key 存在 → 覆蓋\n",
        "*   若 key 不存在 → 新增"
      ],
      "metadata": {
        "id": "TL9NrDinPvHx"
      }
    },
    {
      "cell_type": "code",
      "source": [
        "student[\"age\"] = 21               # 修改現有資料\n",
        "student[\"city\"] = \"Taipei\"        # 新增新欄位\n",
        "print(student)\n"
      ],
      "metadata": {
        "colab": {
          "base_uri": "https://localhost:8080/"
        },
        "id": "B-LJnQpIPkEh",
        "outputId": "63737b96-9b9f-403f-87b8-63dadafca911"
      },
      "execution_count": 51,
      "outputs": [
        {
          "output_type": "stream",
          "name": "stdout",
          "text": [
            "{'name': '小明', 'age': 21, 'grades': [85, 90, 78], 'contact': {'email': 'ming@school.com', 'phone': '0912-345-678'}, 'city': 'Taipei'}\n"
          ]
        }
      ]
    },
    {
      "cell_type": "markdown",
      "source": [
        "*   小明\", 20, [85, 90, 78], {...} → 是 值 (values)\n",
        "\n",
        "*   contact 裡還有一個巢狀字典（nested dictionary）"
      ],
      "metadata": {
        "id": "wMPI5rUvOwvQ"
      }
    },
    {
      "cell_type": "markdown",
      "source": [
        "**刪除資料**"
      ],
      "metadata": {
        "id": "dnYF6u_GQIrf"
      }
    },
    {
      "cell_type": "code",
      "source": [
        "del student[\"city\"]         # 刪除鍵\n",
        "student.pop(\"age\")          # 刪除並回傳值\n",
        "print(student)\n"
      ],
      "metadata": {
        "colab": {
          "base_uri": "https://localhost:8080/"
        },
        "id": "gutBsaqkQISH",
        "outputId": "99826fb1-c478-4327-a25b-4fbb5481e0c1"
      },
      "execution_count": 52,
      "outputs": [
        {
          "output_type": "stream",
          "name": "stdout",
          "text": [
            "{'name': '小明', 'grades': [85, 90, 78], 'contact': {'email': 'ming@school.com', 'phone': '0912-345-678'}}\n"
          ]
        }
      ]
    },
    {
      "cell_type": "markdown",
      "source": [
        "# **遍歷字典**\n",
        "\n",
        "* items()：同時取得鍵與值\n",
        "\n",
        "* keys()：只取鍵\n",
        "\n",
        "* values()：只取值\n",
        "\n",
        "\n"
      ],
      "metadata": {
        "id": "ik-XbWl6QYb3"
      }
    },
    {
      "cell_type": "code",
      "source": [
        "for key, value in student.items():\n",
        "    print(f\"{key}: {value}\")\n"
      ],
      "metadata": {
        "colab": {
          "base_uri": "https://localhost:8080/"
        },
        "id": "lt6ZrxiLQWko",
        "outputId": "7d286dc9-e222-4d16-ae41-aa2d87602d22"
      },
      "execution_count": 53,
      "outputs": [
        {
          "output_type": "stream",
          "name": "stdout",
          "text": [
            "name: 小明\n",
            "grades: [85, 90, 78]\n",
            "contact: {'email': 'ming@school.com', 'phone': '0912-345-678'}\n"
          ]
        }
      ]
    },
    {
      "cell_type": "markdown",
      "source": [
        "# **函式定義**"
      ],
      "metadata": {
        "id": "A9dhwFw4sDNa"
      }
    },
    {
      "cell_type": "code",
      "source": [
        "# 基本函式定義\n",
        "def greet(name):\n",
        "    return f\"Hello, {name}!\"\n",
        "\n",
        "# 呼叫函式\n",
        "result = greet(\"Alice\")\n",
        "\n",
        "# 印出結果\n",
        "print(result)           # Hello, Alice!\n",
        "print(greet(\"Bob\"))"
      ],
      "metadata": {
        "colab": {
          "base_uri": "https://localhost:8080/"
        },
        "id": "3Oxz_wcBwcwv",
        "outputId": "1e709303-7085-49b3-b875-a57f9f9a7e47"
      },
      "execution_count": 19,
      "outputs": [
        {
          "output_type": "stream",
          "name": "stdout",
          "text": [
            "Hello, Alice!\n",
            "Hello, Bob!\n"
          ]
        }
      ]
    },
    {
      "cell_type": "code",
      "source": [
        "# 多參數函式\n",
        "def calculate_sum(a, b):\n",
        "    return a + b\n",
        "\n",
        "# 呼叫函式\n",
        "total = calculate_sum(5, 3)\n",
        "\n",
        "# 印出結果\n",
        "print(total)            # 8\n",
        "print(calculate_sum(10, 20))"
      ],
      "metadata": {
        "colab": {
          "base_uri": "https://localhost:8080/"
        },
        "id": "0TDxkIpbwlLs",
        "outputId": "221a037c-71fb-4a19-870f-c2ef01231e94"
      },
      "execution_count": 20,
      "outputs": [
        {
          "output_type": "stream",
          "name": "stdout",
          "text": [
            "8\n",
            "30\n"
          ]
        }
      ]
    },
    {
      "cell_type": "code",
      "source": [
        "# 預設參數\n",
        "def introduce(name=\"Bob\", age=20):\n",
        "    return f\"I'm {name}, {age} years old.\"\n",
        "\n",
        "\n",
        "# 印出結果\n",
        "print(introduce())            # I'm Bob, 20 years old."
      ],
      "metadata": {
        "colab": {
          "base_uri": "https://localhost:8080/"
        },
        "id": "8URW3rnYwxeU",
        "outputId": "840eb591-487c-4e72-f6e8-22f42ef89a76"
      },
      "execution_count": 18,
      "outputs": [
        {
          "output_type": "stream",
          "name": "stdout",
          "text": [
            "I'm Bob, 20 years old.\n"
          ]
        }
      ]
    },
    {
      "cell_type": "code",
      "source": [
        "def introduce(name, age):\n",
        "    return f\"I'm {name}, {age} years old.\"\n",
        "\n",
        "# 呼叫函式\n",
        "intro = introduce(\"Bob\",20)\n",
        "\n",
        "# 印出結果\n",
        "print(intro)            # I'm Bob, 20 years old.\n",
        "print(introduce(\"Alice\", 30))"
      ],
      "metadata": {
        "colab": {
          "base_uri": "https://localhost:8080/"
        },
        "id": "xfd-6jhvw-O0",
        "outputId": "0283ee8d-7654-410b-a7f4-ce44c49bb912"
      },
      "execution_count": 21,
      "outputs": [
        {
          "output_type": "stream",
          "name": "stdout",
          "text": [
            "I'm Bob, 20 years old.\n",
            "I'm Alice, 30 years old.\n"
          ]
        }
      ]
    },
    {
      "cell_type": "markdown",
      "source": [
        "**JavaScript 對照**"
      ],
      "metadata": {
        "id": "IDrqmBsb3KLl"
      }
    },
    {
      "cell_type": "code",
      "source": [
        "// 函式宣告\n",
        "function greet(name) {\n",
        "    return `Hello, ${name}!`;\n",
        "}\n",
        "\n",
        "// 函式表達式\n",
        "const calculateSum = function(a, b) {\n",
        "    return a + b;\n",
        "};\n",
        "\n",
        "\n",
        "const introduce = (name, age = 20) => {\n",
        "    return `I'm ${name}, ${age} years old.`;\n",
        "};\n",
        "\n",
        "// 呼叫函式\n",
        "let result = greet(\"Alice\");\n",
        "let total = calculateSum(5, 3);\n",
        "let intro = introduce(\"Bob\");\n",
        "\n",
        "// 箭頭函式簡寫\n",
        "const square = x => x * x;"
      ],
      "metadata": {
        "id": "QcG5Bu0P3Xak"
      },
      "execution_count": null,
      "outputs": []
    },
    {
      "cell_type": "markdown",
      "source": [
        "# **迴圈結構**\n",
        "\n",
        "\n",
        "\n",
        "*   for 迴圈用於重複執行固定次數的動作。\n",
        "*   迴圈除了for迴圈還有**while迴圈**\n",
        "\n"
      ],
      "metadata": {
        "id": "BxIiGPsbtsA2"
      }
    },
    {
      "cell_type": "code",
      "execution_count": 40,
      "metadata": {
        "colab": {
          "base_uri": "https://localhost:8080/"
        },
        "id": "WFDTAqF2r3PZ",
        "outputId": "9a4ee10d-39e6-4623-f1d4-667a45f796ed"
      },
      "outputs": [
        {
          "output_type": "stream",
          "name": "stdout",
          "text": [
            "0\n",
            "1\n",
            "2\n",
            "3\n",
            "4\n"
          ]
        }
      ],
      "source": [
        "for i in range(5):      # 0, 1, 2, 3, 4\n",
        "  print(i)"
      ]
    },
    {
      "cell_type": "markdown",
      "source": [
        "*   range(1, 10) 代表從 1 到 9（不含 10）\n",
        "\n"
      ],
      "metadata": {
        "id": "u2jgbipuEp6p"
      }
    },
    {
      "cell_type": "code",
      "source": [
        "for i in range(1, 10):\n",
        "  print(i)"
      ],
      "metadata": {
        "colab": {
          "base_uri": "https://localhost:8080/"
        },
        "id": "7a7IdauxElWb",
        "outputId": "edbddc85-cfdd-4323-f541-4cf2d1a958bf"
      },
      "execution_count": 39,
      "outputs": [
        {
          "output_type": "stream",
          "name": "stdout",
          "text": [
            "1\n",
            "2\n",
            "3\n",
            "4\n",
            "5\n",
            "6\n",
            "7\n",
            "8\n",
            "9\n"
          ]
        }
      ]
    },
    {
      "cell_type": "markdown",
      "source": [
        "**JavaScript 對照**"
      ],
      "metadata": {
        "id": "_8B6v15KGboD"
      }
    },
    {
      "cell_type": "code",
      "source": [
        "// for 迴圈 - 傳統迴圈\n",
        "for (let i = 0; i < 5; i++) {    // 0, 1, 2, 3, 4\n",
        "    console.log(i);\n",
        "}"
      ],
      "metadata": {
        "id": "x6kPgF44GZ20"
      },
      "execution_count": null,
      "outputs": []
    },
    {
      "cell_type": "markdown",
      "source": [
        "\n",
        "\n",
        "*   contimue 跳過那個值，並繼續執行\n",
        "*   break 跳過那個值，並且跳出迴圈\n",
        "\n"
      ],
      "metadata": {
        "id": "FvsLGv4a3ugd"
      }
    },
    {
      "cell_type": "code",
      "source": [
        "# 迴圈控制\n",
        "for i in range(10):\n",
        "    if i == 3:\n",
        "        continue    # 跳過本次迭代\n",
        "    if i == 7:\n",
        "        break       # 跳出迴圈\n",
        "    print(i)"
      ],
      "metadata": {
        "colab": {
          "base_uri": "https://localhost:8080/"
        },
        "id": "TCpeWrB23qbz",
        "outputId": "33210b9c-a48b-425e-c983-94babff42552"
      },
      "execution_count": 22,
      "outputs": [
        {
          "output_type": "stream",
          "name": "stdout",
          "text": [
            "0\n",
            "1\n",
            "2\n",
            "4\n",
            "5\n",
            "6\n"
          ]
        }
      ]
    },
    {
      "cell_type": "code",
      "source": [
        "# while 迴圈\n",
        "count = 0\n",
        "while count < 5:\n",
        "     print(count)\n",
        "     count += 1   #count = count + 1\n"
      ],
      "metadata": {
        "colab": {
          "base_uri": "https://localhost:8080/"
        },
        "id": "set6NRHDwBq9",
        "outputId": "b560caa5-937e-458a-b82b-2dfb033f7d72"
      },
      "execution_count": 24,
      "outputs": [
        {
          "output_type": "stream",
          "name": "stdout",
          "text": [
            "0\n",
            "1\n",
            "2\n",
            "3\n",
            "4\n"
          ]
        }
      ]
    },
    {
      "cell_type": "markdown",
      "source": [
        "#**巢狀迴圈_九九乘法表**\n",
        "\n",
        "\n",
        "*   巢狀迴圈 (Nested loop)：外圈控制列數，內圈控制欄數\n",
        "*   【end=\"\\t\"】 for j in range(1, 10):用 tab 分隔\n",
        "*   【print()】、【\"\\t\"】是換行的意思\n"
      ],
      "metadata": {
        "id": "YZuof1RXE8rC"
      }
    },
    {
      "cell_type": "code",
      "source": [
        "for i in range(1, 10):\n",
        "  for j in range(1, 10):\n",
        "      print(f\"{i} x {j} = {i*j}\", end=\"\\t\")\n",
        "  print()\n"
      ],
      "metadata": {
        "colab": {
          "base_uri": "https://localhost:8080/"
        },
        "id": "w-9AKJ8TE3Fj",
        "outputId": "f88fb576-8bf0-4ddd-dc8e-5a76271c6985"
      },
      "execution_count": 44,
      "outputs": [
        {
          "output_type": "stream",
          "name": "stdout",
          "text": [
            "1 x 1 = 1\t1 x 2 = 2\t1 x 3 = 3\t1 x 4 = 4\t1 x 5 = 5\t1 x 6 = 6\t1 x 7 = 7\t1 x 8 = 8\t1 x 9 = 9\t\n",
            "2 x 1 = 2\t2 x 2 = 4\t2 x 3 = 6\t2 x 4 = 8\t2 x 5 = 10\t2 x 6 = 12\t2 x 7 = 14\t2 x 8 = 16\t2 x 9 = 18\t\n",
            "3 x 1 = 3\t3 x 2 = 6\t3 x 3 = 9\t3 x 4 = 12\t3 x 5 = 15\t3 x 6 = 18\t3 x 7 = 21\t3 x 8 = 24\t3 x 9 = 27\t\n",
            "4 x 1 = 4\t4 x 2 = 8\t4 x 3 = 12\t4 x 4 = 16\t4 x 5 = 20\t4 x 6 = 24\t4 x 7 = 28\t4 x 8 = 32\t4 x 9 = 36\t\n",
            "5 x 1 = 5\t5 x 2 = 10\t5 x 3 = 15\t5 x 4 = 20\t5 x 5 = 25\t5 x 6 = 30\t5 x 7 = 35\t5 x 8 = 40\t5 x 9 = 45\t\n",
            "6 x 1 = 6\t6 x 2 = 12\t6 x 3 = 18\t6 x 4 = 24\t6 x 5 = 30\t6 x 6 = 36\t6 x 7 = 42\t6 x 8 = 48\t6 x 9 = 54\t\n",
            "7 x 1 = 7\t7 x 2 = 14\t7 x 3 = 21\t7 x 4 = 28\t7 x 5 = 35\t7 x 6 = 42\t7 x 7 = 49\t7 x 8 = 56\t7 x 9 = 63\t\n",
            "8 x 1 = 8\t8 x 2 = 16\t8 x 3 = 24\t8 x 4 = 32\t8 x 5 = 40\t8 x 6 = 48\t8 x 7 = 56\t8 x 8 = 64\t8 x 9 = 72\t\n",
            "9 x 1 = 9\t9 x 2 = 18\t9 x 3 = 27\t9 x 4 = 36\t9 x 5 = 45\t9 x 6 = 54\t9 x 7 = 63\t9 x 8 = 72\t9 x 9 = 81\t\n"
          ]
        }
      ]
    },
    {
      "cell_type": "markdown",
      "source": [
        "# **列表和迴圈**\n",
        "\n",
        "* fruit 是暫時代表清單中「目前這個水果」的變數名稱，寫成別的變數也是相同的結果\n",
        "\n",
        "\n"
      ],
      "metadata": {
        "id": "07HYkqLBuwHt"
      }
    },
    {
      "cell_type": "code",
      "source": [
        "fruits = [\"apple\", \"banana\", \"cherry\"]\n",
        "for fruit in fruits:\n",
        "     print(fruit)"
      ],
      "metadata": {
        "colab": {
          "base_uri": "https://localhost:8080/"
        },
        "id": "4djfz2RRuvfH",
        "outputId": "a4c37bdf-b445-4fd5-a7ab-087e09101365"
      },
      "execution_count": 25,
      "outputs": [
        {
          "output_type": "stream",
          "name": "stdout",
          "text": [
            "apple\n",
            "banana\n",
            "cherry\n"
          ]
        }
      ]
    },
    {
      "cell_type": "code",
      "source": [
        "fruits = [\"apple\", \"banana\", \"cherry\"]\n",
        "for item in fruits:\n",
        "    print(item)\n"
      ],
      "metadata": {
        "colab": {
          "base_uri": "https://localhost:8080/"
        },
        "id": "fz5eLRF455im",
        "outputId": "e3f3c27e-a1b5-4c8e-9ad2-24dca52db55c"
      },
      "execution_count": 26,
      "outputs": [
        {
          "output_type": "stream",
          "name": "stdout",
          "text": [
            "apple\n",
            "banana\n",
            "cherry\n"
          ]
        }
      ]
    },
    {
      "cell_type": "code",
      "source": [
        "fruits = [\"apple\", \"banana\", \"cherry\"]\n",
        "for x in fruits:\n",
        "    print(x)\n"
      ],
      "metadata": {
        "colab": {
          "base_uri": "https://localhost:8080/"
        },
        "id": "QtGa_i_458BK",
        "outputId": "4934bffb-2d78-4e36-c4b3-ac7d1d08168b"
      },
      "execution_count": 27,
      "outputs": [
        {
          "output_type": "stream",
          "name": "stdout",
          "text": [
            "apple\n",
            "banana\n",
            "cherry\n"
          ]
        }
      ]
    },
    {
      "cell_type": "markdown",
      "source": [
        "*   使用 for迴圈 和 fruits[] 陣列中的位置去 print值"
      ],
      "metadata": {
        "id": "a-7FufKBvhdW"
      }
    },
    {
      "cell_type": "code",
      "source": [
        "fruits = [\"apple\", \"banana\", \"cherry\", \"grava\", \"Papaya\", \"Watermelon\", \"pineapple\"]\n",
        "for i in range(7):      # 0, 1, 2\n",
        "     print(fruits[i])"
      ],
      "metadata": {
        "colab": {
          "base_uri": "https://localhost:8080/"
        },
        "id": "eEIDfMjTviJa",
        "outputId": "57807770-60c6-4feb-9536-b5a081dfb64b"
      },
      "execution_count": 46,
      "outputs": [
        {
          "output_type": "stream",
          "name": "stdout",
          "text": [
            "apple\n",
            "banana\n",
            "cherry\n",
            "grava\n",
            "Papaya\n",
            "Watermelon\n",
            "pineapple\n"
          ]
        }
      ]
    },
    {
      "cell_type": "markdown",
      "source": [
        "**JavaScript 對照**"
      ],
      "metadata": {
        "id": "_O4Tctx_42Eu"
      }
    },
    {
      "cell_type": "code",
      "source": [
        "// for 迴圈 - 遍歷陣列\n",
        "let fruits = [\"apple\", \"banana\", \"cherry\"];\n",
        "for (let i = 0; i < fruits.length; i++) {\n",
        "    console.log(fruits[i]);\n",
        "}\n"
      ],
      "metadata": {
        "id": "Lc8LaTmn41lZ"
      },
      "execution_count": null,
      "outputs": []
    },
    {
      "cell_type": "markdown",
      "source": [
        "#**練習與解答**\n"
      ],
      "metadata": {
        "id": "vD1f0AD-AA5q"
      }
    },
    {
      "cell_type": "markdown",
      "source": [
        "**JavaScript**"
      ],
      "metadata": {
        "id": "ZCJRqonYAM5u"
      }
    },
    {
      "cell_type": "code",
      "source": [
        "// JavaScript 版本\n",
        "function calculateGrade(score) {\n",
        "    if (score >= 90) {\n",
        "        return \"A\";\n",
        "    } else if (score >= 80) {\n",
        "        return \"B\";\n",
        "    } else if (score >= 70) {\n",
        "        return \"C\";\n",
        "    } else {\n",
        "        return \"F\";\n",
        "    }\n",
        "}\n",
        "\n",
        "let studentScore = 85;\n",
        "let grade = calculateGrade(studentScore);\n",
        "console.log(`成績等級: ${grade}`);"
      ],
      "metadata": {
        "id": "DqxCGOCyAFlV"
      },
      "execution_count": null,
      "outputs": []
    },
    {
      "cell_type": "code",
      "source": [
        "# Python 版本\n",
        "def calculate_grade(score):\n",
        "    if score >= 90:\n",
        "        return \"A\"\n",
        "    elif score >= 80:\n",
        "        return \"B\"\n",
        "    elif score >= 70:\n",
        "        return \"C\"\n",
        "    else:\n",
        "        return \"F\"\n",
        "\n",
        "student_score = 85\n",
        "grade = calculate_grade(student_score)\n",
        "print(f\"成績等級: {grade}\")"
      ],
      "metadata": {
        "colab": {
          "base_uri": "https://localhost:8080/"
        },
        "id": "tJc1f_NiAQMO",
        "outputId": "e1fd106a-036d-4ba7-b916-06ee63c9101a"
      },
      "execution_count": 28,
      "outputs": [
        {
          "output_type": "stream",
          "name": "stdout",
          "text": [
            "成績等級: B\n"
          ]
        }
      ]
    },
    {
      "cell_type": "code",
      "source": [
        "# 字典創建與操作\n",
        "student = {\n",
        "    \"name\": \"小明\",\n",
        "    \"age\": 20,\n",
        "    \"grades\": [85, 90, 78],\n",
        "    \"contact\": {\n",
        "        \"email\": \"ming@school.com\",\n",
        "        \"phone\": \"0912-345-678\"\n",
        "    }\n",
        "}\n",
        "\n",
        "# 存取資料\n",
        "print(student[\"name\"])           # 小明\n",
        "print(student.get(\"height\", \"未知\"))  # 安全的取得方式，避免錯誤\n",
        "\n",
        "# 遍歷字典\n",
        "for key, value in student.items():\n",
        "    print(f\"{key}: {value}\")"
      ],
      "metadata": {
        "colab": {
          "base_uri": "https://localhost:8080/"
        },
        "id": "x20O5l64CYXK",
        "outputId": "5bd3d3d4-fd47-4b1f-ad70-5c650ec96c67"
      },
      "execution_count": 29,
      "outputs": [
        {
          "output_type": "stream",
          "name": "stdout",
          "text": [
            "小明\n",
            "未知\n",
            "name: 小明\n",
            "age: 20\n",
            "grades: [85, 90, 78]\n",
            "contact: {'email': 'ming@school.com', 'phone': '0912-345-678'}\n"
          ]
        }
      ]
    },
    {
      "cell_type": "markdown",
      "source": [
        "*   input() 讀進來的資料型態是字串（str）\n",
        "*   range(1, a+1) 需要「整數（int）」\n",
        "\n",
        "\n"
      ],
      "metadata": {
        "id": "ixmps5PDDx3k"
      }
    },
    {
      "cell_type": "code",
      "source": [
        "a =int(input(\"輸入一個數字\"))\n",
        "t=0\n",
        "for i in range(1,a+1):\n",
        "    t=t+i\n",
        "print(t)"
      ],
      "metadata": {
        "colab": {
          "base_uri": "https://localhost:8080/"
        },
        "id": "rMxjro2ICwVC",
        "outputId": "c3e3eac3-56d2-4b9c-9746-4c57d03f19d1"
      },
      "execution_count": 38,
      "outputs": [
        {
          "output_type": "stream",
          "name": "stdout",
          "text": [
            "輸入一個數字2\n",
            "3\n"
          ]
        }
      ]
    },
    {
      "cell_type": "code",
      "source": [
        "a = input(\"輸入一個名子\")"
      ],
      "metadata": {
        "colab": {
          "base_uri": "https://localhost:8080/"
        },
        "id": "fkjg3AmSCYwg",
        "outputId": "f8a45d23-a28f-4b34-d430-2e54c4b4f134"
      },
      "execution_count": 45,
      "outputs": [
        {
          "name": "stdout",
          "output_type": "stream",
          "text": [
            "輸入一個名子Amy\n"
          ]
        }
      ]
    },
    {
      "cell_type": "code",
      "source": [],
      "metadata": {
        "id": "Q6JBxSrhJGMr"
      },
      "execution_count": null,
      "outputs": []
    }
  ]
}